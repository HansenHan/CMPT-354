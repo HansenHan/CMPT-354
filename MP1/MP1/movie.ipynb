{
 "cells": [
  {
   "cell_type": "code",
   "execution_count": 1,
   "metadata": {},
   "outputs": [],
   "source": [
    "%load_ext sql"
   ]
  },
  {
   "cell_type": "code",
   "execution_count": 2,
   "metadata": {},
   "outputs": [
    {
     "data": {
      "text/plain": [
       "u'Connected: @movie.db'"
      ]
     },
     "execution_count": 2,
     "metadata": {},
     "output_type": "execute_result"
    }
   ],
   "source": [
    "%sql sqlite:///movie.db"
   ]
  },
  {
   "cell_type": "code",
   "execution_count": 3,
   "metadata": {},
   "outputs": [
    {
     "name": "stdout",
     "output_type": "stream",
     "text": [
      " * sqlite:///movie.db\n",
      "Done.\n",
      "Done.\n",
      "Done.\n",
      "Done.\n",
      "Done.\n",
      "Done.\n",
      "Done.\n",
      "Done.\n"
     ]
    },
    {
     "data": {
      "text/plain": [
       "[]"
      ]
     },
     "execution_count": 3,
     "metadata": {},
     "output_type": "execute_result"
    }
   ],
   "source": [
    "%%sql\n",
    "CREATE TABLE Movie (\n",
    "    title CHAR(100) NOT NULL PRIMARY KEY,\n",
    "    length INT,\n",
    "    year INT,\n",
    "    genre CHAR(30)\n",
    ");\n",
    "\n",
    "CREATE TABLE Score (\n",
    "    title CHAR(100),\n",
    "    score FLOAT,\n",
    "    PRIMARY KEY (title, score),\n",
    "    FOREIGN KEY (title) REFERENCES Movie(title)\n",
    ");\n",
    "CREATE TABLE Star (\n",
    "    sname CHAR(30) NOT NULL PRIMARY KEY,\n",
    "    gender CHAR(1) CHECK (gender IN ('F', 'M')),\n",
    "    birthday DATE,\n",
    "    nationality CHAR(20)\n",
    ");\n",
    "CREATE TABLE StarIn (\n",
    "    title CHAR(100),\n",
    "    sname CHAR(30),\n",
    "    PRIMARY KEY (title, sname),\n",
    "    FOREIGN KEY (title) REFERENCES Movie(title),\n",
    "    FOREIGN KEY (sname) REFERENCES Star(sname)\n",
    ");\n",
    "CREATE TABLE Director (\n",
    "    dname CHAR(30) NOT NULL PRIMARY KEY,\n",
    "    gender CHAR(1) CHECK (gender IN ('F', 'M')),\n",
    "    birthday DATE,\n",
    "    nationality CHAR(20)\n",
    ");\n",
    "CREATE TABLE DirectedBy (\n",
    "    title CHAR(100),\n",
    "    dname CHAR(30),\n",
    "    PRIMARY KEY (title, dname),\n",
    "    FOREIGN KEY (title) REFERENCES Movie(title),\n",
    "    FOREIGN KEY (dname) REFERENCES Director(dname)\n",
    ");\n",
    "\n",
    "CREATE TABLE Studio (\n",
    "    mname CHAR(30) NOT NULL PRIMARY KEY,\n",
    "    location CHAR(200)\n",
    ");\n",
    "\n",
    "CREATE TABLE MadeBy (\n",
    "    title CHAR(100),\n",
    "    mname CHAR(30),\n",
    "    PRIMARY KEY (title, mname),\n",
    "    FOREIGN KEY (title) REFERENCES Movie(title),\n",
    "    FOREIGN KEY (mname) REFERENCES Studio(mname)\n",
    ");"
   ]
  },
  {
   "cell_type": "code",
   "execution_count": 4,
   "metadata": {},
   "outputs": [
    {
     "name": "stdout",
     "output_type": "stream",
     "text": [
      " * sqlite:///movie.db\n",
      "10 rows affected.\n"
     ]
    },
    {
     "data": {
      "text/plain": [
       "[]"
      ]
     },
     "execution_count": 4,
     "metadata": {},
     "output_type": "execute_result"
    }
   ],
   "source": [
    "%%sql\n",
    "INSERT INTO Movie\n",
    "VALUES ('The Prestige', 130, 2006,'thriller'),\n",
    "('The Conjuring',112 ,2013 ,'horror'),\n",
    "('Insidious', 102, 2010,'horror'),\n",
    "('The Shining', 144, 1980,'horror'),\n",
    "('Les Misérables', 158, 2012,'musical drama'),\n",
    "('Interstellar', 169, 2014,'sci-fi'),\n",
    "('The Notebook', 124, 2004,'drama'),\n",
    "('Doctor Strange', 115, 2016,'sci-fi'),\n",
    "('Ready Player One', 140, 2018,'sci-fi'),\n",
    "('Silent Hill', 125, 2006,'horror');\n"
   ]
  },
  {
   "cell_type": "code",
   "execution_count": 5,
   "metadata": {},
   "outputs": [
    {
     "name": "stdout",
     "output_type": "stream",
     "text": [
      " * sqlite:///movie.db\n",
      "12 rows affected.\n"
     ]
    },
    {
     "data": {
      "text/plain": [
       "[]"
      ]
     },
     "execution_count": 5,
     "metadata": {},
     "output_type": "execute_result"
    }
   ],
   "source": [
    "%%sql\n",
    "INSERT INTO Star\n",
    "VALUES ('Shelley Duvall', 'F', '1949-07-07', 'American'),\n",
    "('Anne Hathaway', 'F', '1982-11-12', 'American'),\n",
    "('Jessica Chastain', 'F', '1977-03-24', 'American'),\n",
    "('Radha Mitchell', 'F', '1973-11-12', 'Australian'),\n",
    "('Rachel McAdams', 'F', '1978-11-17', 'Canadian'),\n",
    "('Patrick Wilson', 'M', '1973-07-03', 'American'),\n",
    "('Jack Nicholson', 'M', '1937-04-22', 'American'),\n",
    "('Matthew McConaughey', 'M', '1969-11-04', 'American'),\n",
    "('Tye Sheridan', 'M', '1996-11-11', 'American'),\n",
    "('Russell Crowe', 'M', '1964-04-07', 'Australian'),\n",
    "('Ryan Gosling', 'M', '1980-11-12', 'Canadian'),\n",
    "('Benedict Cumberbatch', 'M', '1976-07-19', 'English');\n"
   ]
  },
  {
   "cell_type": "code",
   "execution_count": 6,
   "metadata": {},
   "outputs": [
    {
     "name": "stdout",
     "output_type": "stream",
     "text": [
      " * sqlite:///movie.db\n",
      "10 rows affected.\n"
     ]
    },
    {
     "data": {
      "text/plain": [
       "[]"
      ]
     },
     "execution_count": 6,
     "metadata": {},
     "output_type": "execute_result"
    }
   ],
   "source": [
    "%%sql\n",
    "INSERT INTO Director\n",
    "VALUES ('Christopher Nolan', 'M', '1970-07-30', 'English'),\n",
    "('Stanley Kubrick', 'M', '1928-07-26', 'American'),\n",
    "('Nick Cassavetes', 'M', '1959-05-21', 'American'),\n",
    "('Scott Derrickson', 'M', '1966-07-16', 'American'),\n",
    "('Steven Spielberg', 'M', '1946-12-18', 'American'),\n",
    "('David Lynch', 'M', '1946-01-20', 'American'),\n",
    "('Martin Scorsese', 'M', '1942-11-17', 'American'),\n",
    "('Tom Hopper', 'M', '1977-02-26', 'Australian'),\n",
    "('James Wan', 'M', '1972-10-05', 'Australian'),\n",
    "('Christophe Gans', 'M', '1960-03-11', 'French');"
   ]
  },
  {
   "cell_type": "code",
   "execution_count": 7,
   "metadata": {},
   "outputs": [
    {
     "name": "stdout",
     "output_type": "stream",
     "text": [
      " * sqlite:///movie.db\n",
      "10 rows affected.\n"
     ]
    },
    {
     "data": {
      "text/plain": [
       "[]"
      ]
     },
     "execution_count": 7,
     "metadata": {},
     "output_type": "execute_result"
    }
   ],
   "source": [
    "%%sql\n",
    "INSERT INTO Studio\n",
    "VALUES ('Working Title Films', 'England'),\n",
    "('Syncopy', 'England'),\n",
    "('Hawk Films', 'England'),\n",
    "('Warner Bros.', 'U.S.'),\n",
    "('Blumhouse Productions', 'U.S.'),\n",
    "('Legendary Pictures', 'U.S.'),\n",
    "('Gran Via', 'U.S.'),\n",
    "('Marvel Studios', 'U.S.'),\n",
    "('Amblin Partners', 'U.S.'),\n",
    "('Konami', 'Japan');\n"
   ]
  },
  {
   "cell_type": "code",
   "execution_count": 8,
   "metadata": {},
   "outputs": [
    {
     "name": "stdout",
     "output_type": "stream",
     "text": [
      " * sqlite:///movie.db\n",
      "10 rows affected.\n"
     ]
    },
    {
     "data": {
      "text/plain": [
       "[]"
      ]
     },
     "execution_count": 8,
     "metadata": {},
     "output_type": "execute_result"
    }
   ],
   "source": [
    "%%sql\n",
    "INSERT INTO Score\n",
    "VALUES ('The Prestige', 8.5),\n",
    "('The Conjuring', 7.5),\n",
    "('Insidious', 6.9),\n",
    "('The Shining', 8.4),\n",
    "('Les Misérables', 7.6),\n",
    "('Interstellar', 8.6),\n",
    "('The Notebook', 7.9),\n",
    "('Doctor Strange', 7.5),\n",
    "('Ready Player One', 7.5),\n",
    "('Silent Hill', 6.6);"
   ]
  },
  {
   "cell_type": "code",
   "execution_count": 9,
   "metadata": {},
   "outputs": [
    {
     "name": "stdout",
     "output_type": "stream",
     "text": [
      " * sqlite:///movie.db\n",
      "10 rows affected.\n"
     ]
    },
    {
     "data": {
      "text/plain": [
       "[]"
      ]
     },
     "execution_count": 9,
     "metadata": {},
     "output_type": "execute_result"
    }
   ],
   "source": [
    "%%sql\n",
    "INSERT INTO DirectedBy\n",
    "VALUES ('The Prestige', 'Christopher Nolan'),\n",
    "('The Conjuring', 'James Wan'),\n",
    "('Insidious', 'James Wan'),\n",
    "('The Shining', 'Stanley Kubrick'),\n",
    "('Les Misérables', 'Tom Hopper'),\n",
    "('Interstellar', 'Christopher Nolan'),\n",
    "('The Notebook', 'Nick Cassavetes'),\n",
    "('Doctor Strange', 'Scott Derrickson'),\n",
    "('Ready Player One', 'Steven Spielberg'),\n",
    "('Silent Hill', 'Christophe Gans');\n"
   ]
  },
  {
   "cell_type": "code",
   "execution_count": 10,
   "metadata": {},
   "outputs": [
    {
     "name": "stdout",
     "output_type": "stream",
     "text": [
      " * sqlite:///movie.db\n",
      "13 rows affected.\n"
     ]
    },
    {
     "data": {
      "text/plain": [
       "[]"
      ]
     },
     "execution_count": 10,
     "metadata": {},
     "output_type": "execute_result"
    }
   ],
   "source": [
    "%%sql\n",
    "INSERT INTO MadeBy\n",
    "VALUES ('The Prestige', 'Warner Bros.'),\n",
    "('The Prestige', 'Syncopy'),\n",
    "('The Conjuring', 'Warner Bros.'),\n",
    "('Insidious', 'Blumhouse Productions'),\n",
    "('The Shining', 'Hawk Films'),\n",
    "('Les Misérables', 'Working Title Films'),\n",
    "('Interstellar', 'Syncopy'),\n",
    "('Interstellar', 'Legendary Pictures'),\n",
    "('The Notebook', 'Gran Via'),\n",
    "('Doctor Strange', 'Marvel Studios'),\n",
    "('Ready Player One', 'Warner Bros.'),\n",
    "('Ready Player One', 'Amblin Partners'),\n",
    "('Silent Hill', 'Konami');\n"
   ]
  },
  {
   "cell_type": "code",
   "execution_count": 11,
   "metadata": {},
   "outputs": [
    {
     "name": "stdout",
     "output_type": "stream",
     "text": [
      " * sqlite:///movie.db\n",
      "19 rows affected.\n"
     ]
    },
    {
     "data": {
      "text/plain": [
       "[]"
      ]
     },
     "execution_count": 11,
     "metadata": {},
     "output_type": "execute_result"
    }
   ],
   "source": [
    "%%sql\n",
    "INSERT INTO StarIn\n",
    "VALUES ('The Prestige', 'Hugh Jackman'),\n",
    "('The Prestige', 'Christian Bale'),\n",
    "('The Conjuring', 'Vera Farmiga'),\n",
    "('The Conjuring', 'Patrick Wilson'),\n",
    "('Insidious', 'Patrick Wilson'),\n",
    "('The Shining', 'Jack Nicholson'),\n",
    "('The Shining', 'Shelley Duvall'),\n",
    "('Les Misérables', 'Hugh Jackman'),\n",
    "('Les Misérables', 'Russell Crowe'),\n",
    "('Les Misérables', 'Anne Hathaway'),\n",
    "('Interstellar', 'Matthew McConaughey'),\n",
    "('Interstellar', 'Jessica Chastain'),\n",
    "('Interstellar', 'Anne Hathaway'),\n",
    "('The Notebook', 'Ryan Gosling'),\n",
    "('The Notebook', 'Rachel McAdams'),\n",
    "('Doctor Strange', 'Benedict Cumberbatch'),\n",
    "('Doctor Strange', 'Rachel McAdams'),\n",
    "('Ready Player One', 'Tye Sheridan'),\n",
    "('Silent Hill', 'Radha Mitchell');\n"
   ]
  },
  {
   "cell_type": "code",
   "execution_count": 12,
   "metadata": {},
   "outputs": [
    {
     "name": "stdout",
     "output_type": "stream",
     "text": [
      " * sqlite:///movie.db\n",
      "Done.\n"
     ]
    },
    {
     "data": {
      "text/html": [
       "<table>\n",
       "    <tr>\n",
       "        <th>title</th>\n",
       "        <th>length</th>\n",
       "        <th>year</th>\n",
       "        <th>genre</th>\n",
       "    </tr>\n",
       "    <tr>\n",
       "        <td>The Prestige</td>\n",
       "        <td>130</td>\n",
       "        <td>2006</td>\n",
       "        <td>thriller</td>\n",
       "    </tr>\n",
       "    <tr>\n",
       "        <td>The Conjuring</td>\n",
       "        <td>112</td>\n",
       "        <td>2013</td>\n",
       "        <td>horror</td>\n",
       "    </tr>\n",
       "    <tr>\n",
       "        <td>Insidious</td>\n",
       "        <td>102</td>\n",
       "        <td>2010</td>\n",
       "        <td>horror</td>\n",
       "    </tr>\n",
       "    <tr>\n",
       "        <td>The Shining</td>\n",
       "        <td>144</td>\n",
       "        <td>1980</td>\n",
       "        <td>horror</td>\n",
       "    </tr>\n",
       "    <tr>\n",
       "        <td>Les Misérables</td>\n",
       "        <td>158</td>\n",
       "        <td>2012</td>\n",
       "        <td>musical drama</td>\n",
       "    </tr>\n",
       "    <tr>\n",
       "        <td>Interstellar</td>\n",
       "        <td>169</td>\n",
       "        <td>2014</td>\n",
       "        <td>sci-fi</td>\n",
       "    </tr>\n",
       "    <tr>\n",
       "        <td>The Notebook</td>\n",
       "        <td>124</td>\n",
       "        <td>2004</td>\n",
       "        <td>drama</td>\n",
       "    </tr>\n",
       "    <tr>\n",
       "        <td>Doctor Strange</td>\n",
       "        <td>115</td>\n",
       "        <td>2016</td>\n",
       "        <td>sci-fi</td>\n",
       "    </tr>\n",
       "    <tr>\n",
       "        <td>Ready Player One</td>\n",
       "        <td>140</td>\n",
       "        <td>2018</td>\n",
       "        <td>sci-fi</td>\n",
       "    </tr>\n",
       "    <tr>\n",
       "        <td>Silent Hill</td>\n",
       "        <td>125</td>\n",
       "        <td>2006</td>\n",
       "        <td>horror</td>\n",
       "    </tr>\n",
       "</table>"
      ],
      "text/plain": [
       "[(u'The Prestige', 130, 2006, u'thriller'),\n",
       " (u'The Conjuring', 112, 2013, u'horror'),\n",
       " (u'Insidious', 102, 2010, u'horror'),\n",
       " (u'The Shining', 144, 1980, u'horror'),\n",
       " (u'Les Mis\\xe9rables', 158, 2012, u'musical drama'),\n",
       " (u'Interstellar', 169, 2014, u'sci-fi'),\n",
       " (u'The Notebook', 124, 2004, u'drama'),\n",
       " (u'Doctor Strange', 115, 2016, u'sci-fi'),\n",
       " (u'Ready Player One', 140, 2018, u'sci-fi'),\n",
       " (u'Silent Hill', 125, 2006, u'horror')]"
      ]
     },
     "execution_count": 12,
     "metadata": {},
     "output_type": "execute_result"
    }
   ],
   "source": [
    "%%sql\n",
    "SELECT * FROM Movie;"
   ]
  },
  {
   "cell_type": "code",
   "execution_count": 13,
   "metadata": {},
   "outputs": [
    {
     "name": "stdout",
     "output_type": "stream",
     "text": [
      " * sqlite:///movie.db\n",
      "Done.\n"
     ]
    },
    {
     "data": {
      "text/html": [
       "<table>\n",
       "    <tr>\n",
       "        <th>sname</th>\n",
       "        <th>gender</th>\n",
       "        <th>birthday</th>\n",
       "        <th>nationality</th>\n",
       "    </tr>\n",
       "    <tr>\n",
       "        <td>Shelley Duvall</td>\n",
       "        <td>F</td>\n",
       "        <td>1949-07-07</td>\n",
       "        <td>American</td>\n",
       "    </tr>\n",
       "    <tr>\n",
       "        <td>Anne Hathaway</td>\n",
       "        <td>F</td>\n",
       "        <td>1982-11-12</td>\n",
       "        <td>American</td>\n",
       "    </tr>\n",
       "    <tr>\n",
       "        <td>Jessica Chastain</td>\n",
       "        <td>F</td>\n",
       "        <td>1977-03-24</td>\n",
       "        <td>American</td>\n",
       "    </tr>\n",
       "    <tr>\n",
       "        <td>Radha Mitchell</td>\n",
       "        <td>F</td>\n",
       "        <td>1973-11-12</td>\n",
       "        <td>Australian</td>\n",
       "    </tr>\n",
       "    <tr>\n",
       "        <td>Rachel McAdams</td>\n",
       "        <td>F</td>\n",
       "        <td>1978-11-17</td>\n",
       "        <td>Canadian</td>\n",
       "    </tr>\n",
       "    <tr>\n",
       "        <td>Patrick Wilson</td>\n",
       "        <td>M</td>\n",
       "        <td>1973-07-03</td>\n",
       "        <td>American</td>\n",
       "    </tr>\n",
       "    <tr>\n",
       "        <td>Jack Nicholson</td>\n",
       "        <td>M</td>\n",
       "        <td>1937-04-22</td>\n",
       "        <td>American</td>\n",
       "    </tr>\n",
       "    <tr>\n",
       "        <td>Matthew McConaughey</td>\n",
       "        <td>M</td>\n",
       "        <td>1969-11-04</td>\n",
       "        <td>American</td>\n",
       "    </tr>\n",
       "    <tr>\n",
       "        <td>Tye Sheridan</td>\n",
       "        <td>M</td>\n",
       "        <td>1996-11-11</td>\n",
       "        <td>American</td>\n",
       "    </tr>\n",
       "    <tr>\n",
       "        <td>Russell Crowe</td>\n",
       "        <td>M</td>\n",
       "        <td>1964-04-07</td>\n",
       "        <td>Australian</td>\n",
       "    </tr>\n",
       "    <tr>\n",
       "        <td>Ryan Gosling</td>\n",
       "        <td>M</td>\n",
       "        <td>1980-11-12</td>\n",
       "        <td>Canadian</td>\n",
       "    </tr>\n",
       "    <tr>\n",
       "        <td>Benedict Cumberbatch</td>\n",
       "        <td>M</td>\n",
       "        <td>1976-07-19</td>\n",
       "        <td>English</td>\n",
       "    </tr>\n",
       "</table>"
      ],
      "text/plain": [
       "[(u'Shelley Duvall', u'F', u'1949-07-07', u'American'),\n",
       " (u'Anne Hathaway', u'F', u'1982-11-12', u'American'),\n",
       " (u'Jessica Chastain', u'F', u'1977-03-24', u'American'),\n",
       " (u'Radha Mitchell', u'F', u'1973-11-12', u'Australian'),\n",
       " (u'Rachel McAdams', u'F', u'1978-11-17', u'Canadian'),\n",
       " (u'Patrick Wilson', u'M', u'1973-07-03', u'American'),\n",
       " (u'Jack Nicholson', u'M', u'1937-04-22', u'American'),\n",
       " (u'Matthew McConaughey', u'M', u'1969-11-04', u'American'),\n",
       " (u'Tye Sheridan', u'M', u'1996-11-11', u'American'),\n",
       " (u'Russell Crowe', u'M', u'1964-04-07', u'Australian'),\n",
       " (u'Ryan Gosling', u'M', u'1980-11-12', u'Canadian'),\n",
       " (u'Benedict Cumberbatch', u'M', u'1976-07-19', u'English')]"
      ]
     },
     "execution_count": 13,
     "metadata": {},
     "output_type": "execute_result"
    }
   ],
   "source": [
    "%%sql\n",
    "SELECT * FROM Star;"
   ]
  },
  {
   "cell_type": "code",
   "execution_count": 14,
   "metadata": {},
   "outputs": [
    {
     "name": "stdout",
     "output_type": "stream",
     "text": [
      " * sqlite:///movie.db\n",
      "Done.\n"
     ]
    },
    {
     "data": {
      "text/html": [
       "<table>\n",
       "    <tr>\n",
       "        <th>dname</th>\n",
       "        <th>gender</th>\n",
       "        <th>birthday</th>\n",
       "        <th>nationality</th>\n",
       "    </tr>\n",
       "    <tr>\n",
       "        <td>Christopher Nolan</td>\n",
       "        <td>M</td>\n",
       "        <td>1970-07-30</td>\n",
       "        <td>English</td>\n",
       "    </tr>\n",
       "    <tr>\n",
       "        <td>Stanley Kubrick</td>\n",
       "        <td>M</td>\n",
       "        <td>1928-07-26</td>\n",
       "        <td>American</td>\n",
       "    </tr>\n",
       "    <tr>\n",
       "        <td>Nick Cassavetes</td>\n",
       "        <td>M</td>\n",
       "        <td>1959-05-21</td>\n",
       "        <td>American</td>\n",
       "    </tr>\n",
       "    <tr>\n",
       "        <td>Scott Derrickson</td>\n",
       "        <td>M</td>\n",
       "        <td>1966-07-16</td>\n",
       "        <td>American</td>\n",
       "    </tr>\n",
       "    <tr>\n",
       "        <td>Steven Spielberg</td>\n",
       "        <td>M</td>\n",
       "        <td>1946-12-18</td>\n",
       "        <td>American</td>\n",
       "    </tr>\n",
       "    <tr>\n",
       "        <td>David Lynch</td>\n",
       "        <td>M</td>\n",
       "        <td>1946-01-20</td>\n",
       "        <td>American</td>\n",
       "    </tr>\n",
       "    <tr>\n",
       "        <td>Martin Scorsese</td>\n",
       "        <td>M</td>\n",
       "        <td>1942-11-17</td>\n",
       "        <td>American</td>\n",
       "    </tr>\n",
       "    <tr>\n",
       "        <td>Tom Hopper</td>\n",
       "        <td>M</td>\n",
       "        <td>1977-02-26</td>\n",
       "        <td>Australian</td>\n",
       "    </tr>\n",
       "    <tr>\n",
       "        <td>James Wan</td>\n",
       "        <td>M</td>\n",
       "        <td>1972-10-05</td>\n",
       "        <td>Australian</td>\n",
       "    </tr>\n",
       "    <tr>\n",
       "        <td>Christophe Gans</td>\n",
       "        <td>M</td>\n",
       "        <td>1960-03-11</td>\n",
       "        <td>French</td>\n",
       "    </tr>\n",
       "</table>"
      ],
      "text/plain": [
       "[(u'Christopher Nolan', u'M', u'1970-07-30', u'English'),\n",
       " (u'Stanley Kubrick', u'M', u'1928-07-26', u'American'),\n",
       " (u'Nick Cassavetes', u'M', u'1959-05-21', u'American'),\n",
       " (u'Scott Derrickson', u'M', u'1966-07-16', u'American'),\n",
       " (u'Steven Spielberg', u'M', u'1946-12-18', u'American'),\n",
       " (u'David Lynch', u'M', u'1946-01-20', u'American'),\n",
       " (u'Martin Scorsese', u'M', u'1942-11-17', u'American'),\n",
       " (u'Tom Hopper', u'M', u'1977-02-26', u'Australian'),\n",
       " (u'James Wan', u'M', u'1972-10-05', u'Australian'),\n",
       " (u'Christophe Gans', u'M', u'1960-03-11', u'French')]"
      ]
     },
     "execution_count": 14,
     "metadata": {},
     "output_type": "execute_result"
    }
   ],
   "source": [
    "%%sql\n",
    "SELECT * FROM Director;"
   ]
  },
  {
   "cell_type": "code",
   "execution_count": 15,
   "metadata": {},
   "outputs": [
    {
     "name": "stdout",
     "output_type": "stream",
     "text": [
      " * sqlite:///movie.db\n",
      "Done.\n"
     ]
    },
    {
     "data": {
      "text/html": [
       "<table>\n",
       "    <tr>\n",
       "        <th>mname</th>\n",
       "        <th>location</th>\n",
       "    </tr>\n",
       "    <tr>\n",
       "        <td>Working Title Films</td>\n",
       "        <td>England</td>\n",
       "    </tr>\n",
       "    <tr>\n",
       "        <td>Syncopy</td>\n",
       "        <td>England</td>\n",
       "    </tr>\n",
       "    <tr>\n",
       "        <td>Hawk Films</td>\n",
       "        <td>England</td>\n",
       "    </tr>\n",
       "    <tr>\n",
       "        <td>Warner Bros.</td>\n",
       "        <td>U.S.</td>\n",
       "    </tr>\n",
       "    <tr>\n",
       "        <td>Blumhouse Productions</td>\n",
       "        <td>U.S.</td>\n",
       "    </tr>\n",
       "    <tr>\n",
       "        <td>Legendary Pictures</td>\n",
       "        <td>U.S.</td>\n",
       "    </tr>\n",
       "    <tr>\n",
       "        <td>Gran Via</td>\n",
       "        <td>U.S.</td>\n",
       "    </tr>\n",
       "    <tr>\n",
       "        <td>Marvel Studios</td>\n",
       "        <td>U.S.</td>\n",
       "    </tr>\n",
       "    <tr>\n",
       "        <td>Amblin Partners</td>\n",
       "        <td>U.S.</td>\n",
       "    </tr>\n",
       "    <tr>\n",
       "        <td>Konami</td>\n",
       "        <td>Japan</td>\n",
       "    </tr>\n",
       "</table>"
      ],
      "text/plain": [
       "[(u'Working Title Films', u'England'),\n",
       " (u'Syncopy', u'England'),\n",
       " (u'Hawk Films', u'England'),\n",
       " (u'Warner Bros.', u'U.S.'),\n",
       " (u'Blumhouse Productions', u'U.S.'),\n",
       " (u'Legendary Pictures', u'U.S.'),\n",
       " (u'Gran Via', u'U.S.'),\n",
       " (u'Marvel Studios', u'U.S.'),\n",
       " (u'Amblin Partners', u'U.S.'),\n",
       " (u'Konami', u'Japan')]"
      ]
     },
     "execution_count": 15,
     "metadata": {},
     "output_type": "execute_result"
    }
   ],
   "source": [
    "%%sql\n",
    "SELECT * FROM Studio;"
   ]
  },
  {
   "cell_type": "code",
   "execution_count": 16,
   "metadata": {},
   "outputs": [
    {
     "name": "stdout",
     "output_type": "stream",
     "text": [
      " * sqlite:///movie.db\n",
      "Done.\n"
     ]
    },
    {
     "data": {
      "text/html": [
       "<table>\n",
       "    <tr>\n",
       "        <th>title</th>\n",
       "        <th>sname</th>\n",
       "    </tr>\n",
       "    <tr>\n",
       "        <td>The Prestige</td>\n",
       "        <td>Hugh Jackman</td>\n",
       "    </tr>\n",
       "    <tr>\n",
       "        <td>The Prestige</td>\n",
       "        <td>Christian Bale</td>\n",
       "    </tr>\n",
       "    <tr>\n",
       "        <td>The Conjuring</td>\n",
       "        <td>Vera Farmiga</td>\n",
       "    </tr>\n",
       "    <tr>\n",
       "        <td>The Conjuring</td>\n",
       "        <td>Patrick Wilson</td>\n",
       "    </tr>\n",
       "    <tr>\n",
       "        <td>Insidious</td>\n",
       "        <td>Patrick Wilson</td>\n",
       "    </tr>\n",
       "    <tr>\n",
       "        <td>The Shining</td>\n",
       "        <td>Jack Nicholson</td>\n",
       "    </tr>\n",
       "    <tr>\n",
       "        <td>The Shining</td>\n",
       "        <td>Shelley Duvall</td>\n",
       "    </tr>\n",
       "    <tr>\n",
       "        <td>Les Misérables</td>\n",
       "        <td>Hugh Jackman</td>\n",
       "    </tr>\n",
       "    <tr>\n",
       "        <td>Les Misérables</td>\n",
       "        <td>Russell Crowe</td>\n",
       "    </tr>\n",
       "    <tr>\n",
       "        <td>Les Misérables</td>\n",
       "        <td>Anne Hathaway</td>\n",
       "    </tr>\n",
       "    <tr>\n",
       "        <td>Interstellar</td>\n",
       "        <td>Matthew McConaughey</td>\n",
       "    </tr>\n",
       "    <tr>\n",
       "        <td>Interstellar</td>\n",
       "        <td>Jessica Chastain</td>\n",
       "    </tr>\n",
       "    <tr>\n",
       "        <td>Interstellar</td>\n",
       "        <td>Anne Hathaway</td>\n",
       "    </tr>\n",
       "    <tr>\n",
       "        <td>The Notebook</td>\n",
       "        <td>Ryan Gosling</td>\n",
       "    </tr>\n",
       "    <tr>\n",
       "        <td>The Notebook</td>\n",
       "        <td>Rachel McAdams</td>\n",
       "    </tr>\n",
       "    <tr>\n",
       "        <td>Doctor Strange</td>\n",
       "        <td>Benedict Cumberbatch</td>\n",
       "    </tr>\n",
       "    <tr>\n",
       "        <td>Doctor Strange</td>\n",
       "        <td>Rachel McAdams</td>\n",
       "    </tr>\n",
       "    <tr>\n",
       "        <td>Ready Player One</td>\n",
       "        <td>Tye Sheridan</td>\n",
       "    </tr>\n",
       "    <tr>\n",
       "        <td>Silent Hill</td>\n",
       "        <td>Radha Mitchell</td>\n",
       "    </tr>\n",
       "</table>"
      ],
      "text/plain": [
       "[(u'The Prestige', u'Hugh Jackman'),\n",
       " (u'The Prestige', u'Christian Bale'),\n",
       " (u'The Conjuring', u'Vera Farmiga'),\n",
       " (u'The Conjuring', u'Patrick Wilson'),\n",
       " (u'Insidious', u'Patrick Wilson'),\n",
       " (u'The Shining', u'Jack Nicholson'),\n",
       " (u'The Shining', u'Shelley Duvall'),\n",
       " (u'Les Mis\\xe9rables', u'Hugh Jackman'),\n",
       " (u'Les Mis\\xe9rables', u'Russell Crowe'),\n",
       " (u'Les Mis\\xe9rables', u'Anne Hathaway'),\n",
       " (u'Interstellar', u'Matthew McConaughey'),\n",
       " (u'Interstellar', u'Jessica Chastain'),\n",
       " (u'Interstellar', u'Anne Hathaway'),\n",
       " (u'The Notebook', u'Ryan Gosling'),\n",
       " (u'The Notebook', u'Rachel McAdams'),\n",
       " (u'Doctor Strange', u'Benedict Cumberbatch'),\n",
       " (u'Doctor Strange', u'Rachel McAdams'),\n",
       " (u'Ready Player One', u'Tye Sheridan'),\n",
       " (u'Silent Hill', u'Radha Mitchell')]"
      ]
     },
     "execution_count": 16,
     "metadata": {},
     "output_type": "execute_result"
    }
   ],
   "source": [
    "%%sql\n",
    "SELECT * FROM StarIn;"
   ]
  },
  {
   "cell_type": "code",
   "execution_count": 17,
   "metadata": {},
   "outputs": [
    {
     "name": "stdout",
     "output_type": "stream",
     "text": [
      " * sqlite:///movie.db\n",
      "Done.\n"
     ]
    },
    {
     "data": {
      "text/html": [
       "<table>\n",
       "    <tr>\n",
       "        <th>title</th>\n",
       "        <th>dname</th>\n",
       "    </tr>\n",
       "    <tr>\n",
       "        <td>The Prestige</td>\n",
       "        <td>Christopher Nolan</td>\n",
       "    </tr>\n",
       "    <tr>\n",
       "        <td>The Conjuring</td>\n",
       "        <td>James Wan</td>\n",
       "    </tr>\n",
       "    <tr>\n",
       "        <td>Insidious</td>\n",
       "        <td>James Wan</td>\n",
       "    </tr>\n",
       "    <tr>\n",
       "        <td>The Shining</td>\n",
       "        <td>Stanley Kubrick</td>\n",
       "    </tr>\n",
       "    <tr>\n",
       "        <td>Les Misérables</td>\n",
       "        <td>Tom Hopper</td>\n",
       "    </tr>\n",
       "    <tr>\n",
       "        <td>Interstellar</td>\n",
       "        <td>Christopher Nolan</td>\n",
       "    </tr>\n",
       "    <tr>\n",
       "        <td>The Notebook</td>\n",
       "        <td>Nick Cassavetes</td>\n",
       "    </tr>\n",
       "    <tr>\n",
       "        <td>Doctor Strange</td>\n",
       "        <td>Scott Derrickson</td>\n",
       "    </tr>\n",
       "    <tr>\n",
       "        <td>Ready Player One</td>\n",
       "        <td>Steven Spielberg</td>\n",
       "    </tr>\n",
       "    <tr>\n",
       "        <td>Silent Hill</td>\n",
       "        <td>Christophe Gans</td>\n",
       "    </tr>\n",
       "</table>"
      ],
      "text/plain": [
       "[(u'The Prestige', u'Christopher Nolan'),\n",
       " (u'The Conjuring', u'James Wan'),\n",
       " (u'Insidious', u'James Wan'),\n",
       " (u'The Shining', u'Stanley Kubrick'),\n",
       " (u'Les Mis\\xe9rables', u'Tom Hopper'),\n",
       " (u'Interstellar', u'Christopher Nolan'),\n",
       " (u'The Notebook', u'Nick Cassavetes'),\n",
       " (u'Doctor Strange', u'Scott Derrickson'),\n",
       " (u'Ready Player One', u'Steven Spielberg'),\n",
       " (u'Silent Hill', u'Christophe Gans')]"
      ]
     },
     "execution_count": 17,
     "metadata": {},
     "output_type": "execute_result"
    }
   ],
   "source": [
    "%%sql\n",
    "SELECT * FROM DirectedBy;"
   ]
  },
  {
   "cell_type": "code",
   "execution_count": 18,
   "metadata": {},
   "outputs": [
    {
     "name": "stdout",
     "output_type": "stream",
     "text": [
      " * sqlite:///movie.db\n",
      "Done.\n"
     ]
    },
    {
     "data": {
      "text/html": [
       "<table>\n",
       "    <tr>\n",
       "        <th>title</th>\n",
       "        <th>mname</th>\n",
       "    </tr>\n",
       "    <tr>\n",
       "        <td>The Prestige</td>\n",
       "        <td>Warner Bros.</td>\n",
       "    </tr>\n",
       "    <tr>\n",
       "        <td>The Prestige</td>\n",
       "        <td>Syncopy</td>\n",
       "    </tr>\n",
       "    <tr>\n",
       "        <td>The Conjuring</td>\n",
       "        <td>Warner Bros.</td>\n",
       "    </tr>\n",
       "    <tr>\n",
       "        <td>Insidious</td>\n",
       "        <td>Blumhouse Productions</td>\n",
       "    </tr>\n",
       "    <tr>\n",
       "        <td>The Shining</td>\n",
       "        <td>Hawk Films</td>\n",
       "    </tr>\n",
       "    <tr>\n",
       "        <td>Les Misérables</td>\n",
       "        <td>Working Title Films</td>\n",
       "    </tr>\n",
       "    <tr>\n",
       "        <td>Interstellar</td>\n",
       "        <td>Syncopy</td>\n",
       "    </tr>\n",
       "    <tr>\n",
       "        <td>Interstellar</td>\n",
       "        <td>Legendary Pictures</td>\n",
       "    </tr>\n",
       "    <tr>\n",
       "        <td>The Notebook</td>\n",
       "        <td>Gran Via</td>\n",
       "    </tr>\n",
       "    <tr>\n",
       "        <td>Doctor Strange</td>\n",
       "        <td>Marvel Studios</td>\n",
       "    </tr>\n",
       "    <tr>\n",
       "        <td>Ready Player One</td>\n",
       "        <td>Warner Bros.</td>\n",
       "    </tr>\n",
       "    <tr>\n",
       "        <td>Ready Player One</td>\n",
       "        <td>Amblin Partners</td>\n",
       "    </tr>\n",
       "    <tr>\n",
       "        <td>Silent Hill</td>\n",
       "        <td>Konami</td>\n",
       "    </tr>\n",
       "</table>"
      ],
      "text/plain": [
       "[(u'The Prestige', u'Warner Bros.'),\n",
       " (u'The Prestige', u'Syncopy'),\n",
       " (u'The Conjuring', u'Warner Bros.'),\n",
       " (u'Insidious', u'Blumhouse Productions'),\n",
       " (u'The Shining', u'Hawk Films'),\n",
       " (u'Les Mis\\xe9rables', u'Working Title Films'),\n",
       " (u'Interstellar', u'Syncopy'),\n",
       " (u'Interstellar', u'Legendary Pictures'),\n",
       " (u'The Notebook', u'Gran Via'),\n",
       " (u'Doctor Strange', u'Marvel Studios'),\n",
       " (u'Ready Player One', u'Warner Bros.'),\n",
       " (u'Ready Player One', u'Amblin Partners'),\n",
       " (u'Silent Hill', u'Konami')]"
      ]
     },
     "execution_count": 18,
     "metadata": {},
     "output_type": "execute_result"
    }
   ],
   "source": [
    "%%sql\n",
    "SELECT * FROM MadeBy;"
   ]
  },
  {
   "cell_type": "code",
   "execution_count": null,
   "metadata": {},
   "outputs": [],
   "source": []
  }
 ],
 "metadata": {
  "kernelspec": {
   "display_name": "Python 3",
   "language": "python",
   "name": "python3"
  },
  "language_info": {
   "codemirror_mode": {
    "name": "ipython",
    "version": 3
   },
   "file_extension": ".py",
   "mimetype": "text/x-python",
   "name": "python",
   "nbconvert_exporter": "python",
   "pygments_lexer": "ipython3",
   "version": "3.7.3"
  }
 },
 "nbformat": 4,
 "nbformat_minor": 2
}
