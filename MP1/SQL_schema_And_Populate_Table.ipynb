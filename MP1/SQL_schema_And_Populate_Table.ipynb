{
 "cells": [
  {
   "cell_type": "code",
   "execution_count": 1,
   "metadata": {},
   "outputs": [],
   "source": [
    "%load_ext sql"
   ]
  },
  {
   "cell_type": "code",
   "execution_count": 2,
   "metadata": {},
   "outputs": [
    {
     "data": {
      "text/plain": [
       "'Connected: @movie.db'"
      ]
     },
     "execution_count": 2,
     "metadata": {},
     "output_type": "execute_result"
    }
   ],
   "source": [
    "%sql sqlite:///movie.db"
   ]
  },
  {
   "cell_type": "code",
   "execution_count": 3,
   "metadata": {},
   "outputs": [
    {
     "name": "stdout",
     "output_type": "stream",
     "text": [
      " * sqlite:///movie.db\n",
      "Done.\n"
     ]
    },
    {
     "data": {
      "text/plain": [
       "[]"
      ]
     },
     "execution_count": 3,
     "metadata": {},
     "output_type": "execute_result"
    }
   ],
   "source": [
    "%%sql\n",
    "PRAGMA foreign_keys=1;"
   ]
  },
  {
   "cell_type": "code",
   "execution_count": 4,
   "metadata": {},
   "outputs": [
    {
     "name": "stdout",
     "output_type": "stream",
     "text": [
      " * sqlite:///movie.db\n",
      "Done.\n",
      "Done.\n",
      "Done.\n",
      "Done.\n",
      "Done.\n",
      "Done.\n",
      "Done.\n",
      "Done.\n"
     ]
    },
    {
     "data": {
      "text/plain": [
       "[]"
      ]
     },
     "execution_count": 4,
     "metadata": {},
     "output_type": "execute_result"
    }
   ],
   "source": [
    "%%sql\n",
    "CREATE TABLE Movie (\n",
    "    title CHAR(100) NOT NULL,\n",
    "    year INT NOT NULL,\n",
    "    length INT,\n",
    "    genre CHAR(30),\n",
    "    PRIMARY KEY (title,year)\n",
    ");\n",
    "CREATE TABLE Score (\n",
    "    title CHAR(100),\n",
    "    year INT,\n",
    "    score FLOAT,\n",
    "    PRIMARY KEY (title, year, score),\n",
    "    FOREIGN KEY ('title','year') REFERENCES Movie('title','year') ON DELETE CASCADE ON UPDATE CASCADE\n",
    ");\n",
    "CREATE TABLE Star (\n",
    "    sname CHAR(30) NOT NULL PRIMARY KEY,\n",
    "    gender CHAR(1) CHECK (gender IN ('F', 'M')),\n",
    "    birthday DATE,\n",
    "    nationality CHAR(20)\n",
    ");\n",
    "CREATE TABLE StarIn (\n",
    "    title CHAR(100),\n",
    "    year INT,\n",
    "    sname CHAR(30),\n",
    "    PRIMARY KEY (title, year, sname),\n",
    "    FOREIGN KEY ('title','year') REFERENCES Movie('title','year') ON DELETE CASCADE ON UPDATE CASCADE,\n",
    "    FOREIGN KEY (sname) REFERENCES Star(sname) ON DELETE CASCADE ON UPDATE CASCADE\n",
    ");\n",
    "CREATE TABLE Director (\n",
    "    dname CHAR(30) NOT NULL PRIMARY KEY,\n",
    "    gender CHAR(1) CHECK (gender IN ('F', 'M')),\n",
    "    birthday DATE,\n",
    "    nationality CHAR(20)\n",
    ");\n",
    "CREATE TABLE DirectedBy (\n",
    "    title CHAR(100),\n",
    "    year INT,\n",
    "    dname CHAR(30),\n",
    "    PRIMARY KEY (title, year, dname),\n",
    "    FOREIGN KEY ('title','year') REFERENCES Movie('title','year') ON DELETE CASCADE ON UPDATE CASCADE,\n",
    "    FOREIGN KEY (dname) REFERENCES Director(dname) ON DELETE CASCADE ON UPDATE CASCADE\n",
    ");\n",
    "\n",
    "CREATE TABLE Studio (\n",
    "    mname CHAR(30) NOT NULL PRIMARY KEY,\n",
    "    location CHAR(200)\n",
    ");\n",
    "\n",
    "CREATE TABLE MadeBy (\n",
    "    title CHAR(100),\n",
    "    year INT,\n",
    "    mname CHAR(30),\n",
    "    PRIMARY KEY (title, year, mname),\n",
    "    FOREIGN KEY ('title','year') REFERENCES Movie('title','year') ON DELETE CASCADE ON UPDATE CASCADE,\n",
    "    FOREIGN KEY (mname) REFERENCES Studio(mname) ON DELETE CASCADE ON UPDATE CASCADE\n",
    ");"
   ]
  },
  {
   "cell_type": "code",
   "execution_count": 5,
   "metadata": {},
   "outputs": [
    {
     "name": "stdout",
     "output_type": "stream",
     "text": [
      " * sqlite:///movie.db\n",
      "11 rows affected.\n"
     ]
    },
    {
     "data": {
      "text/plain": [
       "[]"
      ]
     },
     "execution_count": 5,
     "metadata": {},
     "output_type": "execute_result"
    }
   ],
   "source": [
    "%%sql\n",
    "INSERT INTO Movie\n",
    "VALUES ('The Prestige', 2006, 130, 'thriller'),\n",
    "('The Conjuring', 2013, 112, 'horror'),\n",
    "('Insidious', 2010, 102, 'horror'),\n",
    "('The Shining', 1980, 144, 'horror'),\n",
    "('Les Misérables', 2012, 158,'musical drama'),\n",
    "('Interstellar', 2014, 169, 'sci-fi'),\n",
    "('The Notebook', 2004, 124, 'drama'),\n",
    "('Doctor Strange', 2016, 115,'sci-fi'),\n",
    "('Ready Player One', 2018, 140,'sci-fi'),\n",
    "('Silent Hill', 2006, 125, 'horror'),\n",
    "('Les Misérables', 1998, 134, 'drama');\n"
   ]
  },
  {
   "cell_type": "code",
   "execution_count": 6,
   "metadata": {},
   "outputs": [
    {
     "name": "stdout",
     "output_type": "stream",
     "text": [
      " * sqlite:///movie.db\n",
      "17 rows affected.\n"
     ]
    },
    {
     "data": {
      "text/plain": [
       "[]"
      ]
     },
     "execution_count": 6,
     "metadata": {},
     "output_type": "execute_result"
    }
   ],
   "source": [
    "%%sql\n",
    "INSERT INTO Star\n",
    "VALUES ('Hugh Jackman', 'M', '1968-10-12', 'Australian'),\n",
    "('Christian Bale', 'M', '1974-01-30', 'American'),\n",
    "('Vera Farmiga', 'F', '1973-08-06', 'American'),\n",
    "('Shelley Duvall', 'F', '1949-07-07', 'American'),\n",
    "('Anne Hathaway', 'F', '1982-11-12', 'American'),\n",
    "('Jessica Chastain', 'F', '1977-03-24', 'American'),\n",
    "('Radha Mitchell', 'F', '1973-11-12', 'Australian'),\n",
    "('Rachel McAdams', 'F', '1978-11-17', 'Canadian'),\n",
    "('Patrick Wilson', 'M', '1973-07-03', 'American'),\n",
    "('Jack Nicholson', 'M', '1937-04-22', 'American'),\n",
    "('Matthew McConaughey', 'M', '1969-11-04', 'American'),\n",
    "('Tye Sheridan', 'M', '1996-11-11', 'American'),\n",
    "('Russell Crowe', 'M', '1964-04-07', 'Australian'),\n",
    "('Ryan Gosling', 'M', '1980-11-12', 'Canadian'),\n",
    "('Benedict Cumberbatch', 'M', '1976-07-19', 'English'),\n",
    "('Liam Neeson', 'M', '1952-06-07', 'American'),\n",
    "('Geoffrey Rush', 'M', '1951-07-06', 'Australian');\n"
   ]
  },
  {
   "cell_type": "code",
   "execution_count": 7,
   "metadata": {},
   "outputs": [
    {
     "name": "stdout",
     "output_type": "stream",
     "text": [
      " * sqlite:///movie.db\n",
      "11 rows affected.\n"
     ]
    },
    {
     "data": {
      "text/plain": [
       "[]"
      ]
     },
     "execution_count": 7,
     "metadata": {},
     "output_type": "execute_result"
    }
   ],
   "source": [
    "%%sql\n",
    "INSERT INTO Director\n",
    "VALUES ('Christopher Nolan', 'M', '1970-07-30', 'English'),\n",
    "('Stanley Kubrick', 'M', '1928-07-26', 'American'),\n",
    "('Nick Cassavetes', 'M', '1959-05-21', 'American'),\n",
    "('Scott Derrickson', 'M', '1966-07-16', 'American'),\n",
    "('Steven Spielberg', 'M', '1946-12-18', 'American'),\n",
    "('David Lynch', 'M', '1946-01-20', 'American'),\n",
    "('Martin Scorsese', 'M', '1942-11-17', 'American'),\n",
    "('Tom Hopper', 'M', '1977-02-26', 'Australian'),\n",
    "('James Wan', 'M', '1972-10-05', 'Australian'),\n",
    "('Christophe Gans', 'M', '1960-03-11', 'French'), \n",
    "('Bille August', 'M', '1948-11-09', 'Dane');\n"
   ]
  },
  {
   "cell_type": "code",
   "execution_count": 8,
   "metadata": {},
   "outputs": [
    {
     "name": "stdout",
     "output_type": "stream",
     "text": [
      " * sqlite:///movie.db\n",
      "11 rows affected.\n"
     ]
    },
    {
     "data": {
      "text/plain": [
       "[]"
      ]
     },
     "execution_count": 8,
     "metadata": {},
     "output_type": "execute_result"
    }
   ],
   "source": [
    "%%sql\n",
    "INSERT INTO Studio\n",
    "VALUES ('Working Title Films', 'England'),\n",
    "('Syncopy', 'England'),\n",
    "('Hawk Films', 'England'),\n",
    "('Warner Bros.', 'U.S.'),\n",
    "('Blumhouse Productions', 'U.S.'),\n",
    "('Legendary Pictures', 'U.S.'),\n",
    "('Gran Via', 'U.S.'),\n",
    "('Marvel Studios', 'U.S.'),\n",
    "('Amblin Partners', 'U.S.'),\n",
    "('Konami', 'Japan'),\n",
    "('Mandalay Entertainment', 'U.S.');\n"
   ]
  },
  {
   "cell_type": "code",
   "execution_count": 9,
   "metadata": {},
   "outputs": [
    {
     "name": "stdout",
     "output_type": "stream",
     "text": [
      " * sqlite:///movie.db\n",
      "11 rows affected.\n"
     ]
    },
    {
     "data": {
      "text/plain": [
       "[]"
      ]
     },
     "execution_count": 9,
     "metadata": {},
     "output_type": "execute_result"
    }
   ],
   "source": [
    "%%sql\n",
    "INSERT INTO Score\n",
    "VALUES ('The Prestige', 2006, 8.5),\n",
    "('The Conjuring', 2013, 7.5),\n",
    "('Insidious', 2010, 6.9),\n",
    "('The Shining', 1980, 8.4),\n",
    "('Les Misérables', 2012, 7.6),\n",
    "('Interstellar', 2014, 8.6),\n",
    "('The Notebook', 2004, 7.9),\n",
    "('Doctor Strange', 2016, 7.5),\n",
    "('Ready Player One', 2018, 7.5),\n",
    "('Silent Hill', 2006, 6.6),\n",
    "('Les Misérables', 1998, 7.4);\n"
   ]
  },
  {
   "cell_type": "code",
   "execution_count": 10,
   "metadata": {},
   "outputs": [
    {
     "name": "stdout",
     "output_type": "stream",
     "text": [
      " * sqlite:///movie.db\n",
      "11 rows affected.\n"
     ]
    },
    {
     "data": {
      "text/plain": [
       "[]"
      ]
     },
     "execution_count": 10,
     "metadata": {},
     "output_type": "execute_result"
    }
   ],
   "source": [
    "%%sql\n",
    "INSERT INTO DirectedBy\n",
    "VALUES ('The Prestige', 2006, 'Christopher Nolan'),\n",
    "('The Conjuring', 2013, 'James Wan'),\n",
    "('Insidious', 2010, 'James Wan'),\n",
    "('The Shining', 1980, 'Stanley Kubrick'),\n",
    "('Les Misérables', 2012, 'Tom Hopper'),\n",
    "('Interstellar', 2014, 'Christopher Nolan'),\n",
    "('The Notebook', 2004,'Nick Cassavetes'),\n",
    "('Doctor Strange', 2016, 'Scott Derrickson'),\n",
    "('Ready Player One', 2018, 'Steven Spielberg'),\n",
    "('Silent Hill', 2006, 'Christophe Gans'), \n",
    "('Les Misérables', 1998, 'Bille August');\n"
   ]
  },
  {
   "cell_type": "code",
   "execution_count": 11,
   "metadata": {},
   "outputs": [
    {
     "name": "stdout",
     "output_type": "stream",
     "text": [
      " * sqlite:///movie.db\n",
      "14 rows affected.\n"
     ]
    },
    {
     "data": {
      "text/plain": [
       "[]"
      ]
     },
     "execution_count": 11,
     "metadata": {},
     "output_type": "execute_result"
    }
   ],
   "source": [
    "%%sql\n",
    "INSERT INTO MadeBy\n",
    "VALUES ('The Prestige', 2006, 'Warner Bros.'),\n",
    "('The Prestige', 2006, 'Syncopy'),\n",
    "('The Conjuring', 2013,'Warner Bros.'),\n",
    "('Insidious', 2010, 'Blumhouse Productions'),\n",
    "('The Shining',1980, 'Hawk Films'),\n",
    "('Les Misérables', 2012, 'Working Title Films'),\n",
    "('Interstellar', 2014, 'Syncopy'),\n",
    "('Interstellar', 2014, 'Legendary Pictures'),\n",
    "('The Notebook', 2004, 'Gran Via'),\n",
    "('Doctor Strange', 2016, 'Marvel Studios'),\n",
    "('Ready Player One', 2018, 'Warner Bros.'),\n",
    "('Ready Player One', 2018, 'Amblin Partners'),\n",
    "('Silent Hill', 2006, 'Konami'), \n",
    "('Les Misérables', 1998, 'Mandalay Entertainment');\n"
   ]
  },
  {
   "cell_type": "code",
   "execution_count": 12,
   "metadata": {},
   "outputs": [
    {
     "name": "stdout",
     "output_type": "stream",
     "text": [
      " * sqlite:///movie.db\n",
      "21 rows affected.\n"
     ]
    },
    {
     "data": {
      "text/plain": [
       "[]"
      ]
     },
     "execution_count": 12,
     "metadata": {},
     "output_type": "execute_result"
    }
   ],
   "source": [
    "%%sql\n",
    "INSERT INTO StarIn\n",
    "VALUES ('The Prestige', 2006, 'Hugh Jackman'),\n",
    "('The Prestige', 2006, 'Christian Bale'),\n",
    "('The Conjuring', 2013, 'Vera Farmiga'),\n",
    "('The Conjuring', 2013, 'Patrick Wilson'),\n",
    "('Insidious', 2010, 'Patrick Wilson'),\n",
    "('The Shining',1980, 'Jack Nicholson'),\n",
    "('The Shining',1980, 'Shelley Duvall'),\n",
    "('Les Misérables', 2012, 'Hugh Jackman'),\n",
    "('Les Misérables', 2012, 'Russell Crowe'),\n",
    "('Les Misérables', 2012, 'Anne Hathaway'),\n",
    "('Interstellar', 2014, 'Matthew McConaughey'),\n",
    "('Interstellar', 2014, 'Jessica Chastain'),\n",
    "('Interstellar', 2014, 'Anne Hathaway'),\n",
    "('The Notebook', 2004, 'Ryan Gosling'),\n",
    "('The Notebook', 2004, 'Rachel McAdams'),\n",
    "('Doctor Strange', 2016, 'Benedict Cumberbatch'),\n",
    "('Doctor Strange', 2016, 'Rachel McAdams'),\n",
    "('Ready Player One',2018, 'Tye Sheridan'),\n",
    "('Silent Hill', 2006, 'Radha Mitchell'), \n",
    "('Les Misérables', 1998, 'Liam Neeson'), \n",
    "('Les Misérables', 1998, 'Geoffrey Rush');\n"
   ]
  },
  {
   "cell_type": "code",
   "execution_count": 13,
   "metadata": {},
   "outputs": [
    {
     "name": "stdout",
     "output_type": "stream",
     "text": [
      " * sqlite:///movie.db\n",
      "Done.\n"
     ]
    },
    {
     "data": {
      "text/html": [
       "<table>\n",
       "    <tr>\n",
       "        <th>title</th>\n",
       "        <th>year</th>\n",
       "        <th>length</th>\n",
       "        <th>genre</th>\n",
       "    </tr>\n",
       "    <tr>\n",
       "        <td>The Prestige</td>\n",
       "        <td>2006</td>\n",
       "        <td>130</td>\n",
       "        <td>thriller</td>\n",
       "    </tr>\n",
       "    <tr>\n",
       "        <td>The Conjuring</td>\n",
       "        <td>2013</td>\n",
       "        <td>112</td>\n",
       "        <td>horror</td>\n",
       "    </tr>\n",
       "    <tr>\n",
       "        <td>Insidious</td>\n",
       "        <td>2010</td>\n",
       "        <td>102</td>\n",
       "        <td>horror</td>\n",
       "    </tr>\n",
       "    <tr>\n",
       "        <td>The Shining</td>\n",
       "        <td>1980</td>\n",
       "        <td>144</td>\n",
       "        <td>horror</td>\n",
       "    </tr>\n",
       "    <tr>\n",
       "        <td>Les Misérables</td>\n",
       "        <td>2012</td>\n",
       "        <td>158</td>\n",
       "        <td>musical drama</td>\n",
       "    </tr>\n",
       "    <tr>\n",
       "        <td>Interstellar</td>\n",
       "        <td>2014</td>\n",
       "        <td>169</td>\n",
       "        <td>sci-fi</td>\n",
       "    </tr>\n",
       "    <tr>\n",
       "        <td>The Notebook</td>\n",
       "        <td>2004</td>\n",
       "        <td>124</td>\n",
       "        <td>drama</td>\n",
       "    </tr>\n",
       "    <tr>\n",
       "        <td>Doctor Strange</td>\n",
       "        <td>2016</td>\n",
       "        <td>115</td>\n",
       "        <td>sci-fi</td>\n",
       "    </tr>\n",
       "    <tr>\n",
       "        <td>Ready Player One</td>\n",
       "        <td>2018</td>\n",
       "        <td>140</td>\n",
       "        <td>sci-fi</td>\n",
       "    </tr>\n",
       "    <tr>\n",
       "        <td>Silent Hill</td>\n",
       "        <td>2006</td>\n",
       "        <td>125</td>\n",
       "        <td>horror</td>\n",
       "    </tr>\n",
       "    <tr>\n",
       "        <td>Les Misérables</td>\n",
       "        <td>1998</td>\n",
       "        <td>134</td>\n",
       "        <td>musical drama</td>\n",
       "    </tr>\n",
       "</table>"
      ],
      "text/plain": [
       "[('The Prestige', 2006, 130, 'thriller'),\n",
       " ('The Conjuring', 2013, 112, 'horror'),\n",
       " ('Insidious', 2010, 102, 'horror'),\n",
       " ('The Shining', 1980, 144, 'horror'),\n",
       " ('Les Misérables', 2012, 158, 'musical drama'),\n",
       " ('Interstellar', 2014, 169, 'sci-fi'),\n",
       " ('The Notebook', 2004, 124, 'drama'),\n",
       " ('Doctor Strange', 2016, 115, 'sci-fi'),\n",
       " ('Ready Player One', 2018, 140, 'sci-fi'),\n",
       " ('Silent Hill', 2006, 125, 'horror'),\n",
       " ('Les Misérables', 1998, 134, 'musical drama')]"
      ]
     },
     "execution_count": 13,
     "metadata": {},
     "output_type": "execute_result"
    }
   ],
   "source": [
    "%%sql\n",
    "SELECT * FROM Movie;"
   ]
  },
  {
   "cell_type": "code",
   "execution_count": 14,
   "metadata": {},
   "outputs": [
    {
     "name": "stdout",
     "output_type": "stream",
     "text": [
      " * sqlite:///movie.db\n",
      "Done.\n"
     ]
    },
    {
     "data": {
      "text/html": [
       "<table>\n",
       "    <tr>\n",
       "        <th>sname</th>\n",
       "        <th>gender</th>\n",
       "        <th>birthday</th>\n",
       "        <th>nationality</th>\n",
       "    </tr>\n",
       "    <tr>\n",
       "        <td>Hugh Jackman</td>\n",
       "        <td>M</td>\n",
       "        <td>1968-10-12</td>\n",
       "        <td>Australian</td>\n",
       "    </tr>\n",
       "    <tr>\n",
       "        <td>Christian Bale</td>\n",
       "        <td>M</td>\n",
       "        <td>1974-01-30</td>\n",
       "        <td>American</td>\n",
       "    </tr>\n",
       "    <tr>\n",
       "        <td>Vera Farmiga</td>\n",
       "        <td>F</td>\n",
       "        <td>1973-08-06</td>\n",
       "        <td>American</td>\n",
       "    </tr>\n",
       "    <tr>\n",
       "        <td>Shelley Duvall</td>\n",
       "        <td>F</td>\n",
       "        <td>1949-07-07</td>\n",
       "        <td>American</td>\n",
       "    </tr>\n",
       "    <tr>\n",
       "        <td>Anne Hathaway</td>\n",
       "        <td>F</td>\n",
       "        <td>1982-11-12</td>\n",
       "        <td>American</td>\n",
       "    </tr>\n",
       "    <tr>\n",
       "        <td>Jessica Chastain</td>\n",
       "        <td>F</td>\n",
       "        <td>1977-03-24</td>\n",
       "        <td>American</td>\n",
       "    </tr>\n",
       "    <tr>\n",
       "        <td>Radha Mitchell</td>\n",
       "        <td>F</td>\n",
       "        <td>1973-11-12</td>\n",
       "        <td>Australian</td>\n",
       "    </tr>\n",
       "    <tr>\n",
       "        <td>Rachel McAdams</td>\n",
       "        <td>F</td>\n",
       "        <td>1978-11-17</td>\n",
       "        <td>Canadian</td>\n",
       "    </tr>\n",
       "    <tr>\n",
       "        <td>Patrick Wilson</td>\n",
       "        <td>M</td>\n",
       "        <td>1973-07-03</td>\n",
       "        <td>American</td>\n",
       "    </tr>\n",
       "    <tr>\n",
       "        <td>Jack Nicholson</td>\n",
       "        <td>M</td>\n",
       "        <td>1937-04-22</td>\n",
       "        <td>American</td>\n",
       "    </tr>\n",
       "    <tr>\n",
       "        <td>Matthew McConaughey</td>\n",
       "        <td>M</td>\n",
       "        <td>1969-11-04</td>\n",
       "        <td>American</td>\n",
       "    </tr>\n",
       "    <tr>\n",
       "        <td>Tye Sheridan</td>\n",
       "        <td>M</td>\n",
       "        <td>1996-11-11</td>\n",
       "        <td>American</td>\n",
       "    </tr>\n",
       "    <tr>\n",
       "        <td>Russell Crowe</td>\n",
       "        <td>M</td>\n",
       "        <td>1964-04-07</td>\n",
       "        <td>Australian</td>\n",
       "    </tr>\n",
       "    <tr>\n",
       "        <td>Ryan Gosling</td>\n",
       "        <td>M</td>\n",
       "        <td>1980-11-12</td>\n",
       "        <td>Canadian</td>\n",
       "    </tr>\n",
       "    <tr>\n",
       "        <td>Benedict Cumberbatch</td>\n",
       "        <td>M</td>\n",
       "        <td>1976-07-19</td>\n",
       "        <td>English</td>\n",
       "    </tr>\n",
       "    <tr>\n",
       "        <td>Liam Neeson</td>\n",
       "        <td>M</td>\n",
       "        <td>1952-06-07</td>\n",
       "        <td>American</td>\n",
       "    </tr>\n",
       "    <tr>\n",
       "        <td>Geoffrey Rush</td>\n",
       "        <td>M</td>\n",
       "        <td>1951-07-06</td>\n",
       "        <td>Australian</td>\n",
       "    </tr>\n",
       "</table>"
      ],
      "text/plain": [
       "[('Hugh Jackman', 'M', '1968-10-12', 'Australian'),\n",
       " ('Christian Bale', 'M', '1974-01-30', 'American'),\n",
       " ('Vera Farmiga', 'F', '1973-08-06', 'American'),\n",
       " ('Shelley Duvall', 'F', '1949-07-07', 'American'),\n",
       " ('Anne Hathaway', 'F', '1982-11-12', 'American'),\n",
       " ('Jessica Chastain', 'F', '1977-03-24', 'American'),\n",
       " ('Radha Mitchell', 'F', '1973-11-12', 'Australian'),\n",
       " ('Rachel McAdams', 'F', '1978-11-17', 'Canadian'),\n",
       " ('Patrick Wilson', 'M', '1973-07-03', 'American'),\n",
       " ('Jack Nicholson', 'M', '1937-04-22', 'American'),\n",
       " ('Matthew McConaughey', 'M', '1969-11-04', 'American'),\n",
       " ('Tye Sheridan', 'M', '1996-11-11', 'American'),\n",
       " ('Russell Crowe', 'M', '1964-04-07', 'Australian'),\n",
       " ('Ryan Gosling', 'M', '1980-11-12', 'Canadian'),\n",
       " ('Benedict Cumberbatch', 'M', '1976-07-19', 'English'),\n",
       " ('Liam Neeson', 'M', '1952-06-07', 'American'),\n",
       " ('Geoffrey Rush', 'M', '1951-07-06', 'Australian')]"
      ]
     },
     "execution_count": 14,
     "metadata": {},
     "output_type": "execute_result"
    }
   ],
   "source": [
    "%%sql\n",
    "SELECT * FROM Star;"
   ]
  },
  {
   "cell_type": "code",
   "execution_count": 15,
   "metadata": {},
   "outputs": [
    {
     "name": "stdout",
     "output_type": "stream",
     "text": [
      " * sqlite:///movie.db\n",
      "Done.\n"
     ]
    },
    {
     "data": {
      "text/html": [
       "<table>\n",
       "    <tr>\n",
       "        <th>dname</th>\n",
       "        <th>gender</th>\n",
       "        <th>birthday</th>\n",
       "        <th>nationality</th>\n",
       "    </tr>\n",
       "    <tr>\n",
       "        <td>Christopher Nolan</td>\n",
       "        <td>M</td>\n",
       "        <td>1970-07-30</td>\n",
       "        <td>English</td>\n",
       "    </tr>\n",
       "    <tr>\n",
       "        <td>Stanley Kubrick</td>\n",
       "        <td>M</td>\n",
       "        <td>1928-07-26</td>\n",
       "        <td>American</td>\n",
       "    </tr>\n",
       "    <tr>\n",
       "        <td>Nick Cassavetes</td>\n",
       "        <td>M</td>\n",
       "        <td>1959-05-21</td>\n",
       "        <td>American</td>\n",
       "    </tr>\n",
       "    <tr>\n",
       "        <td>Scott Derrickson</td>\n",
       "        <td>M</td>\n",
       "        <td>1966-07-16</td>\n",
       "        <td>American</td>\n",
       "    </tr>\n",
       "    <tr>\n",
       "        <td>Steven Spielberg</td>\n",
       "        <td>M</td>\n",
       "        <td>1946-12-18</td>\n",
       "        <td>American</td>\n",
       "    </tr>\n",
       "    <tr>\n",
       "        <td>David Lynch</td>\n",
       "        <td>M</td>\n",
       "        <td>1946-01-20</td>\n",
       "        <td>American</td>\n",
       "    </tr>\n",
       "    <tr>\n",
       "        <td>Martin Scorsese</td>\n",
       "        <td>M</td>\n",
       "        <td>1942-11-17</td>\n",
       "        <td>American</td>\n",
       "    </tr>\n",
       "    <tr>\n",
       "        <td>Tom Hopper</td>\n",
       "        <td>M</td>\n",
       "        <td>1977-02-26</td>\n",
       "        <td>Australian</td>\n",
       "    </tr>\n",
       "    <tr>\n",
       "        <td>James Wan</td>\n",
       "        <td>M</td>\n",
       "        <td>1972-10-05</td>\n",
       "        <td>Australian</td>\n",
       "    </tr>\n",
       "    <tr>\n",
       "        <td>Christophe Gans</td>\n",
       "        <td>M</td>\n",
       "        <td>1960-03-11</td>\n",
       "        <td>French</td>\n",
       "    </tr>\n",
       "    <tr>\n",
       "        <td>Bille August</td>\n",
       "        <td>M</td>\n",
       "        <td>1948-11-09</td>\n",
       "        <td>Dane</td>\n",
       "    </tr>\n",
       "</table>"
      ],
      "text/plain": [
       "[('Christopher Nolan', 'M', '1970-07-30', 'English'),\n",
       " ('Stanley Kubrick', 'M', '1928-07-26', 'American'),\n",
       " ('Nick Cassavetes', 'M', '1959-05-21', 'American'),\n",
       " ('Scott Derrickson', 'M', '1966-07-16', 'American'),\n",
       " ('Steven Spielberg', 'M', '1946-12-18', 'American'),\n",
       " ('David Lynch', 'M', '1946-01-20', 'American'),\n",
       " ('Martin Scorsese', 'M', '1942-11-17', 'American'),\n",
       " ('Tom Hopper', 'M', '1977-02-26', 'Australian'),\n",
       " ('James Wan', 'M', '1972-10-05', 'Australian'),\n",
       " ('Christophe Gans', 'M', '1960-03-11', 'French'),\n",
       " ('Bille August', 'M', '1948-11-09', 'Dane')]"
      ]
     },
     "execution_count": 15,
     "metadata": {},
     "output_type": "execute_result"
    }
   ],
   "source": [
    "%%sql\n",
    "SELECT * FROM Director;"
   ]
  },
  {
   "cell_type": "code",
   "execution_count": 16,
   "metadata": {},
   "outputs": [
    {
     "name": "stdout",
     "output_type": "stream",
     "text": [
      " * sqlite:///movie.db\n",
      "Done.\n"
     ]
    },
    {
     "data": {
      "text/html": [
       "<table>\n",
       "    <tr>\n",
       "        <th>mname</th>\n",
       "        <th>location</th>\n",
       "    </tr>\n",
       "    <tr>\n",
       "        <td>Working Title Films</td>\n",
       "        <td>England</td>\n",
       "    </tr>\n",
       "    <tr>\n",
       "        <td>Syncopy</td>\n",
       "        <td>England</td>\n",
       "    </tr>\n",
       "    <tr>\n",
       "        <td>Hawk Films</td>\n",
       "        <td>England</td>\n",
       "    </tr>\n",
       "    <tr>\n",
       "        <td>Warner Bros.</td>\n",
       "        <td>U.S.</td>\n",
       "    </tr>\n",
       "    <tr>\n",
       "        <td>Blumhouse Productions</td>\n",
       "        <td>U.S.</td>\n",
       "    </tr>\n",
       "    <tr>\n",
       "        <td>Legendary Pictures</td>\n",
       "        <td>U.S.</td>\n",
       "    </tr>\n",
       "    <tr>\n",
       "        <td>Gran Via</td>\n",
       "        <td>U.S.</td>\n",
       "    </tr>\n",
       "    <tr>\n",
       "        <td>Marvel Studios</td>\n",
       "        <td>U.S.</td>\n",
       "    </tr>\n",
       "    <tr>\n",
       "        <td>Amblin Partners</td>\n",
       "        <td>U.S.</td>\n",
       "    </tr>\n",
       "    <tr>\n",
       "        <td>Konami</td>\n",
       "        <td>Japan</td>\n",
       "    </tr>\n",
       "    <tr>\n",
       "        <td>Mandalay Entertainment</td>\n",
       "        <td>U.S.</td>\n",
       "    </tr>\n",
       "</table>"
      ],
      "text/plain": [
       "[('Working Title Films', 'England'),\n",
       " ('Syncopy', 'England'),\n",
       " ('Hawk Films', 'England'),\n",
       " ('Warner Bros.', 'U.S.'),\n",
       " ('Blumhouse Productions', 'U.S.'),\n",
       " ('Legendary Pictures', 'U.S.'),\n",
       " ('Gran Via', 'U.S.'),\n",
       " ('Marvel Studios', 'U.S.'),\n",
       " ('Amblin Partners', 'U.S.'),\n",
       " ('Konami', 'Japan'),\n",
       " ('Mandalay Entertainment', 'U.S.')]"
      ]
     },
     "execution_count": 16,
     "metadata": {},
     "output_type": "execute_result"
    }
   ],
   "source": [
    "%%sql\n",
    "SELECT * FROM Studio;"
   ]
  },
  {
   "cell_type": "code",
   "execution_count": 17,
   "metadata": {},
   "outputs": [
    {
     "name": "stdout",
     "output_type": "stream",
     "text": [
      " * sqlite:///movie.db\n",
      "Done.\n"
     ]
    },
    {
     "data": {
      "text/html": [
       "<table>\n",
       "    <tr>\n",
       "        <th>title</th>\n",
       "        <th>year</th>\n",
       "        <th>sname</th>\n",
       "    </tr>\n",
       "    <tr>\n",
       "        <td>The Prestige</td>\n",
       "        <td>2006</td>\n",
       "        <td>Hugh Jackman</td>\n",
       "    </tr>\n",
       "    <tr>\n",
       "        <td>The Prestige</td>\n",
       "        <td>2006</td>\n",
       "        <td>Christian Bale</td>\n",
       "    </tr>\n",
       "    <tr>\n",
       "        <td>The Conjuring</td>\n",
       "        <td>2013</td>\n",
       "        <td>Vera Farmiga</td>\n",
       "    </tr>\n",
       "    <tr>\n",
       "        <td>The Conjuring</td>\n",
       "        <td>2013</td>\n",
       "        <td>Patrick Wilson</td>\n",
       "    </tr>\n",
       "    <tr>\n",
       "        <td>Insidious</td>\n",
       "        <td>2010</td>\n",
       "        <td>Patrick Wilson</td>\n",
       "    </tr>\n",
       "    <tr>\n",
       "        <td>The Shining</td>\n",
       "        <td>1980</td>\n",
       "        <td>Jack Nicholson</td>\n",
       "    </tr>\n",
       "    <tr>\n",
       "        <td>The Shining</td>\n",
       "        <td>1980</td>\n",
       "        <td>Shelley Duvall</td>\n",
       "    </tr>\n",
       "    <tr>\n",
       "        <td>Les Misérables</td>\n",
       "        <td>2012</td>\n",
       "        <td>Hugh Jackman</td>\n",
       "    </tr>\n",
       "    <tr>\n",
       "        <td>Les Misérables</td>\n",
       "        <td>2012</td>\n",
       "        <td>Russell Crowe</td>\n",
       "    </tr>\n",
       "    <tr>\n",
       "        <td>Les Misérables</td>\n",
       "        <td>2012</td>\n",
       "        <td>Anne Hathaway</td>\n",
       "    </tr>\n",
       "    <tr>\n",
       "        <td>Interstellar</td>\n",
       "        <td>2014</td>\n",
       "        <td>Matthew McConaughey</td>\n",
       "    </tr>\n",
       "    <tr>\n",
       "        <td>Interstellar</td>\n",
       "        <td>2014</td>\n",
       "        <td>Jessica Chastain</td>\n",
       "    </tr>\n",
       "    <tr>\n",
       "        <td>Interstellar</td>\n",
       "        <td>2014</td>\n",
       "        <td>Anne Hathaway</td>\n",
       "    </tr>\n",
       "    <tr>\n",
       "        <td>The Notebook</td>\n",
       "        <td>2004</td>\n",
       "        <td>Ryan Gosling</td>\n",
       "    </tr>\n",
       "    <tr>\n",
       "        <td>The Notebook</td>\n",
       "        <td>2004</td>\n",
       "        <td>Rachel McAdams</td>\n",
       "    </tr>\n",
       "    <tr>\n",
       "        <td>Doctor Strange</td>\n",
       "        <td>2016</td>\n",
       "        <td>Benedict Cumberbatch</td>\n",
       "    </tr>\n",
       "    <tr>\n",
       "        <td>Doctor Strange</td>\n",
       "        <td>2016</td>\n",
       "        <td>Rachel McAdams</td>\n",
       "    </tr>\n",
       "    <tr>\n",
       "        <td>Ready Player One</td>\n",
       "        <td>2018</td>\n",
       "        <td>Tye Sheridan</td>\n",
       "    </tr>\n",
       "    <tr>\n",
       "        <td>Silent Hill</td>\n",
       "        <td>2006</td>\n",
       "        <td>Radha Mitchell</td>\n",
       "    </tr>\n",
       "    <tr>\n",
       "        <td>Les Misérables</td>\n",
       "        <td>1998</td>\n",
       "        <td>Liam Neeson</td>\n",
       "    </tr>\n",
       "    <tr>\n",
       "        <td>Les Misérables</td>\n",
       "        <td>1998</td>\n",
       "        <td>Geoffrey Rush</td>\n",
       "    </tr>\n",
       "</table>"
      ],
      "text/plain": [
       "[('The Prestige', 2006, 'Hugh Jackman'),\n",
       " ('The Prestige', 2006, 'Christian Bale'),\n",
       " ('The Conjuring', 2013, 'Vera Farmiga'),\n",
       " ('The Conjuring', 2013, 'Patrick Wilson'),\n",
       " ('Insidious', 2010, 'Patrick Wilson'),\n",
       " ('The Shining', 1980, 'Jack Nicholson'),\n",
       " ('The Shining', 1980, 'Shelley Duvall'),\n",
       " ('Les Misérables', 2012, 'Hugh Jackman'),\n",
       " ('Les Misérables', 2012, 'Russell Crowe'),\n",
       " ('Les Misérables', 2012, 'Anne Hathaway'),\n",
       " ('Interstellar', 2014, 'Matthew McConaughey'),\n",
       " ('Interstellar', 2014, 'Jessica Chastain'),\n",
       " ('Interstellar', 2014, 'Anne Hathaway'),\n",
       " ('The Notebook', 2004, 'Ryan Gosling'),\n",
       " ('The Notebook', 2004, 'Rachel McAdams'),\n",
       " ('Doctor Strange', 2016, 'Benedict Cumberbatch'),\n",
       " ('Doctor Strange', 2016, 'Rachel McAdams'),\n",
       " ('Ready Player One', 2018, 'Tye Sheridan'),\n",
       " ('Silent Hill', 2006, 'Radha Mitchell'),\n",
       " ('Les Misérables', 1998, 'Liam Neeson'),\n",
       " ('Les Misérables', 1998, 'Geoffrey Rush')]"
      ]
     },
     "execution_count": 17,
     "metadata": {},
     "output_type": "execute_result"
    }
   ],
   "source": [
    "%%sql\n",
    "SELECT * FROM StarIn;"
   ]
  },
  {
   "cell_type": "code",
   "execution_count": 18,
   "metadata": {},
   "outputs": [
    {
     "name": "stdout",
     "output_type": "stream",
     "text": [
      " * sqlite:///movie.db\n",
      "Done.\n"
     ]
    },
    {
     "data": {
      "text/html": [
       "<table>\n",
       "    <tr>\n",
       "        <th>title</th>\n",
       "        <th>year</th>\n",
       "        <th>mname</th>\n",
       "    </tr>\n",
       "    <tr>\n",
       "        <td>The Prestige</td>\n",
       "        <td>2006</td>\n",
       "        <td>Warner Bros.</td>\n",
       "    </tr>\n",
       "    <tr>\n",
       "        <td>The Prestige</td>\n",
       "        <td>2006</td>\n",
       "        <td>Syncopy</td>\n",
       "    </tr>\n",
       "    <tr>\n",
       "        <td>The Conjuring</td>\n",
       "        <td>2013</td>\n",
       "        <td>Warner Bros.</td>\n",
       "    </tr>\n",
       "    <tr>\n",
       "        <td>Insidious</td>\n",
       "        <td>2010</td>\n",
       "        <td>Blumhouse Productions</td>\n",
       "    </tr>\n",
       "    <tr>\n",
       "        <td>The Shining</td>\n",
       "        <td>1980</td>\n",
       "        <td>Hawk Films</td>\n",
       "    </tr>\n",
       "    <tr>\n",
       "        <td>Les Misérables</td>\n",
       "        <td>2012</td>\n",
       "        <td>Working Title Films</td>\n",
       "    </tr>\n",
       "    <tr>\n",
       "        <td>Interstellar</td>\n",
       "        <td>2014</td>\n",
       "        <td>Syncopy</td>\n",
       "    </tr>\n",
       "    <tr>\n",
       "        <td>Interstellar</td>\n",
       "        <td>2014</td>\n",
       "        <td>Legendary Pictures</td>\n",
       "    </tr>\n",
       "    <tr>\n",
       "        <td>The Notebook</td>\n",
       "        <td>2004</td>\n",
       "        <td>Gran Via</td>\n",
       "    </tr>\n",
       "    <tr>\n",
       "        <td>Doctor Strange</td>\n",
       "        <td>2016</td>\n",
       "        <td>Marvel Studios</td>\n",
       "    </tr>\n",
       "    <tr>\n",
       "        <td>Ready Player One</td>\n",
       "        <td>2018</td>\n",
       "        <td>Warner Bros.</td>\n",
       "    </tr>\n",
       "    <tr>\n",
       "        <td>Ready Player One</td>\n",
       "        <td>2018</td>\n",
       "        <td>Amblin Partners</td>\n",
       "    </tr>\n",
       "    <tr>\n",
       "        <td>Silent Hill</td>\n",
       "        <td>2006</td>\n",
       "        <td>Konami</td>\n",
       "    </tr>\n",
       "    <tr>\n",
       "        <td>Les Misérables</td>\n",
       "        <td>1998</td>\n",
       "        <td>Mandalay Entertainment</td>\n",
       "    </tr>\n",
       "</table>"
      ],
      "text/plain": [
       "[('The Prestige', 2006, 'Warner Bros.'),\n",
       " ('The Prestige', 2006, 'Syncopy'),\n",
       " ('The Conjuring', 2013, 'Warner Bros.'),\n",
       " ('Insidious', 2010, 'Blumhouse Productions'),\n",
       " ('The Shining', 1980, 'Hawk Films'),\n",
       " ('Les Misérables', 2012, 'Working Title Films'),\n",
       " ('Interstellar', 2014, 'Syncopy'),\n",
       " ('Interstellar', 2014, 'Legendary Pictures'),\n",
       " ('The Notebook', 2004, 'Gran Via'),\n",
       " ('Doctor Strange', 2016, 'Marvel Studios'),\n",
       " ('Ready Player One', 2018, 'Warner Bros.'),\n",
       " ('Ready Player One', 2018, 'Amblin Partners'),\n",
       " ('Silent Hill', 2006, 'Konami'),\n",
       " ('Les Misérables', 1998, 'Mandalay Entertainment')]"
      ]
     },
     "execution_count": 18,
     "metadata": {},
     "output_type": "execute_result"
    }
   ],
   "source": [
    "%%sql\n",
    "SELECT * FROM MadeBy;"
   ]
  },
  {
   "cell_type": "code",
   "execution_count": 19,
   "metadata": {},
   "outputs": [
    {
     "name": "stdout",
     "output_type": "stream",
     "text": [
      " * sqlite:///movie.db\n",
      "Done.\n"
     ]
    },
    {
     "data": {
      "text/html": [
       "<table>\n",
       "    <tr>\n",
       "        <th>title</th>\n",
       "        <th>year</th>\n",
       "        <th>score</th>\n",
       "    </tr>\n",
       "    <tr>\n",
       "        <td>The Prestige</td>\n",
       "        <td>2006</td>\n",
       "        <td>8.5</td>\n",
       "    </tr>\n",
       "    <tr>\n",
       "        <td>The Conjuring</td>\n",
       "        <td>2013</td>\n",
       "        <td>7.5</td>\n",
       "    </tr>\n",
       "    <tr>\n",
       "        <td>Insidious</td>\n",
       "        <td>2010</td>\n",
       "        <td>6.9</td>\n",
       "    </tr>\n",
       "    <tr>\n",
       "        <td>The Shining</td>\n",
       "        <td>1980</td>\n",
       "        <td>8.4</td>\n",
       "    </tr>\n",
       "    <tr>\n",
       "        <td>Les Misérables</td>\n",
       "        <td>2012</td>\n",
       "        <td>7.6</td>\n",
       "    </tr>\n",
       "    <tr>\n",
       "        <td>Interstellar</td>\n",
       "        <td>2014</td>\n",
       "        <td>8.6</td>\n",
       "    </tr>\n",
       "    <tr>\n",
       "        <td>The Notebook</td>\n",
       "        <td>2004</td>\n",
       "        <td>7.9</td>\n",
       "    </tr>\n",
       "    <tr>\n",
       "        <td>Doctor Strange</td>\n",
       "        <td>2016</td>\n",
       "        <td>7.5</td>\n",
       "    </tr>\n",
       "    <tr>\n",
       "        <td>Ready Player One</td>\n",
       "        <td>2018</td>\n",
       "        <td>7.5</td>\n",
       "    </tr>\n",
       "    <tr>\n",
       "        <td>Silent Hill</td>\n",
       "        <td>2006</td>\n",
       "        <td>6.6</td>\n",
       "    </tr>\n",
       "    <tr>\n",
       "        <td>Les Misérables</td>\n",
       "        <td>1998</td>\n",
       "        <td>7.4</td>\n",
       "    </tr>\n",
       "</table>"
      ],
      "text/plain": [
       "[('The Prestige', 2006, 8.5),\n",
       " ('The Conjuring', 2013, 7.5),\n",
       " ('Insidious', 2010, 6.9),\n",
       " ('The Shining', 1980, 8.4),\n",
       " ('Les Misérables', 2012, 7.6),\n",
       " ('Interstellar', 2014, 8.6),\n",
       " ('The Notebook', 2004, 7.9),\n",
       " ('Doctor Strange', 2016, 7.5),\n",
       " ('Ready Player One', 2018, 7.5),\n",
       " ('Silent Hill', 2006, 6.6),\n",
       " ('Les Misérables', 1998, 7.4)]"
      ]
     },
     "execution_count": 19,
     "metadata": {},
     "output_type": "execute_result"
    }
   ],
   "source": [
    "%%sql\n",
    "SELECT * FROM Score;"
   ]
  },
  {
   "cell_type": "code",
   "execution_count": null,
   "metadata": {},
   "outputs": [],
   "source": []
  }
 ],
 "metadata": {
  "kernelspec": {
   "display_name": "Python 3",
   "language": "python",
   "name": "python3"
  },
  "language_info": {
   "codemirror_mode": {
    "name": "ipython",
    "version": 3
   },
   "file_extension": ".py",
   "mimetype": "text/x-python",
   "name": "python",
   "nbconvert_exporter": "python",
   "pygments_lexer": "ipython3",
   "version": "3.7.3"
  }
 },
 "nbformat": 4,
 "nbformat_minor": 2
}
